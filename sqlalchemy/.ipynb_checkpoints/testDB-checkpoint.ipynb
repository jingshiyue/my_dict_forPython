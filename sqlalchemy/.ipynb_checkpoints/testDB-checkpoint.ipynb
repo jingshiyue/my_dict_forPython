{
 "cells": [
  {
   "cell_type": "code",
   "execution_count": 1,
   "id": "handled-acoustic",
   "metadata": {},
   "outputs": [],
   "source": [
    "from db import Base, engine, User, Course\n",
    "from create_db import main,create_users, create_courses\n",
    "create_users()\n"
   ]
  },
  {
   "cell_type": "code",
   "execution_count": 4,
   "id": "contemporary-sucking",
   "metadata": {},
   "outputs": [
    {
     "name": "stdout",
     "output_type": "stream",
     "text": [
      "2021-01-20 17:54:48,501 INFO sqlalchemy.engine.base.Engine SHOW VARIABLES LIKE 'sql_mode'\n",
      "2021-01-20 17:54:48,503 INFO sqlalchemy.engine.base.Engine {}\n",
      "2021-01-20 17:54:48,506 INFO sqlalchemy.engine.base.Engine SHOW VARIABLES LIKE 'lower_case_table_names'\n",
      "2021-01-20 17:54:48,507 INFO sqlalchemy.engine.base.Engine {}\n",
      "2021-01-20 17:54:48,510 INFO sqlalchemy.engine.base.Engine SELECT DATABASE()\n",
      "2021-01-20 17:54:48,510 INFO sqlalchemy.engine.base.Engine {}\n",
      "2021-01-20 17:54:48,512 INFO sqlalchemy.engine.base.Engine show collation where `Charset` = 'utf8mb4' and `Collation` = 'utf8mb4_bin'\n",
      "2021-01-20 17:54:48,513 INFO sqlalchemy.engine.base.Engine {}\n",
      "2021-01-20 17:54:48,515 INFO sqlalchemy.engine.base.Engine SELECT CAST('test plain returns' AS CHAR(60)) AS anon_1\n",
      "2021-01-20 17:54:48,516 INFO sqlalchemy.engine.base.Engine {}\n",
      "2021-01-20 17:54:48,517 INFO sqlalchemy.engine.base.Engine SELECT CAST('test unicode returns' AS CHAR(60)) AS anon_1\n",
      "2021-01-20 17:54:48,518 INFO sqlalchemy.engine.base.Engine {}\n",
      "2021-01-20 17:54:48,519 INFO sqlalchemy.engine.base.Engine SELECT CAST('test collated returns' AS CHAR CHARACTER SET utf8mb4) COLLATE utf8mb4_bin AS anon_1\n",
      "2021-01-20 17:54:48,520 INFO sqlalchemy.engine.base.Engine {}\n",
      "2021-01-20 17:54:48,522 INFO sqlalchemy.engine.base.Engine BEGIN (implicit)\n",
      "2021-01-20 17:54:48,524 INFO sqlalchemy.engine.base.Engine SELECT user.id AS user_id, user.name AS user_name, user.email AS user_email \n",
      "FROM user\n",
      "2021-01-20 17:54:48,524 INFO sqlalchemy.engine.base.Engine {}\n"
     ]
    },
    {
     "data": {
      "text/plain": [
       "[<User: 顾海燕>,\n",
       " <User: 何静>,\n",
       " <User: 王建平>,\n",
       " <User: 曹玉兰>,\n",
       " <User: 余玲>,\n",
       " <User: 王小红>,\n",
       " <User: 蒋秀华>,\n",
       " <User: 陈洋>,\n",
       " <User: 刘宇>,\n",
       " <User: 马利>]"
      ]
     },
     "execution_count": 4,
     "metadata": {},
     "output_type": "execute_result"
    }
   ],
   "source": [
    "from sqlalchemy.orm import sessionmaker\n",
    "from faker import Faker\n",
    "from db import Base, engine, User, Course\n",
    "session = sessionmaker(engine)()\n",
    "fake = Faker('zh-cn')\n",
    "session.query(User).all()"
   ]
  },
  {
   "cell_type": "code",
   "execution_count": null,
   "id": "enclosed-motivation",
   "metadata": {},
   "outputs": [],
   "source": [
    "from sqlalchemy import MedaData"
   ]
  }
 ],
 "metadata": {
  "kernelspec": {
   "display_name": "Python 3",
   "language": "python",
   "name": "python3"
  },
  "language_info": {
   "codemirror_mode": {
    "name": "ipython",
    "version": 3
   },
   "file_extension": ".py",
   "mimetype": "text/x-python",
   "name": "python",
   "nbconvert_exporter": "python",
   "pygments_lexer": "ipython3",
   "version": "3.7.2"
  }
 },
 "nbformat": 4,
 "nbformat_minor": 5
}
